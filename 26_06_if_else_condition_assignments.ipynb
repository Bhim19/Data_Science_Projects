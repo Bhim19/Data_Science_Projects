{
 "cells": [
  {
   "cell_type": "markdown",
   "metadata": {
    "id": "R4WDgVjUKTuW"
   },
   "source": [
    "**[Slide no.52]**\n",
    "\n",
    "1. write a program to Check wheather the age entered by user is above 18 or not?"
   ]
  },
  {
   "cell_type": "code",
   "execution_count": null,
   "metadata": {
    "id": "QUYDTLIKKVM3"
   },
   "outputs": [],
   "source": [
    "print(\"Input Age :\")\n",
    "age=int(input())\n",
    "if age>18:\n",
    "    print(\"age is greater than 18\")\n",
    "elif age<18: \n",
    "    print(\"age is lower than 18\")\n",
    "else:\n",
    "    print(\"age is equal to 18\")"
   ]
  },
  {
   "cell_type": "code",
   "execution_count": null,
   "metadata": {
    "id": "UtMMk_C_KVaA"
   },
   "outputs": [],
   "source": [
    "**[Slide No. 52]**\n",
    "\n",
    "2. Write a program to check number entered is even or not ?"
   ]
  },
  {
   "cell_type": "code",
   "execution_count": 4,
   "metadata": {
    "id": "tdX72iluKVu5"
   },
   "outputs": [
    {
     "name": "stdout",
     "output_type": "stream",
     "text": [
      "Enter any No. :\n",
      "0\n",
      "No. is even\n"
     ]
    }
   ],
   "source": [
    "print(\"Enter any No. :\")\n",
    "a = int(input())\n",
    "if (a%2 == 0):\n",
    "    print (\"No. is even\")\n",
    "else :\n",
    "    print (\"No. is odd\")\n",
    "    "
   ]
  },
  {
   "cell_type": "markdown",
   "metadata": {
    "id": "Pf8qWzurKWDn"
   },
   "source": [
    "**[Slide No. 53]**\n",
    "\n",
    "3. Write a program to print largest number from three given numbers."
   ]
  },
  {
   "cell_type": "code",
   "execution_count": 10,
   "metadata": {
    "id": "RlgJ1ag0MjCy"
   },
   "outputs": [
    {
     "name": "stdout",
     "output_type": "stream",
     "text": [
      "Enter first No. :\n",
      "67\n",
      "Enter second No. :\n",
      "56\n",
      "Enter third No. :\n",
      "09\n",
      "67 is the largest no.\n"
     ]
    }
   ],
   "source": [
    "print(\"Enter first No. :\")\n",
    "a = int(input())\n",
    "print(\"Enter second No. :\")\n",
    "b = int(input())\n",
    "print(\"Enter third No. :\")\n",
    "c = int(input())\n",
    "if (a>b and a>c):\n",
    "    print(a, \"is the largest no.\")\n",
    "elif(b>a and b>c):\n",
    "    print(b, \"is the largest no.\")\n",
    "elif(c>a and c>b):\n",
    "    print(c, \"is the largest no.\")"
   ]
  },
  {
   "cell_type": "markdown",
   "metadata": {
    "id": "lXjKH26aKWHy"
   },
   "source": [
    "**[Slide No.54]**\n",
    "\n",
    "4. Write a program to check whether the user enter number is 10,50 and 100 .\n",
    "\n"
   ]
  },
  {
   "cell_type": "code",
   "execution_count": 14,
   "metadata": {
    "id": "4IsUverrMj-s"
   },
   "outputs": [
    {
     "name": "stdout",
     "output_type": "stream",
     "text": [
      "Enter Any No. :\n",
      "50\n",
      "Valid No.\n"
     ]
    }
   ],
   "source": [
    "print(\"Enter Any No. :\")\n",
    "a = int(input())\n",
    "if (a==10 or a==50 or a==100):\n",
    "    print(\"Valid No.\")\n",
    "else :\n",
    "    print(\"InValid No.\")"
   ]
  },
  {
   "cell_type": "markdown",
   "metadata": {
    "id": "hzFpudkgKWhJ"
   },
   "source": [
    "**[Slide No. 54]**\n",
    "\n",
    "5. Write a program to check given number is multiple of 6 or not ."
   ]
  },
  {
   "cell_type": "code",
   "execution_count": 18,
   "metadata": {
    "id": "GcyVovq0y9Ak"
   },
   "outputs": [
    {
     "name": "stdout",
     "output_type": "stream",
     "text": [
      "Enter any No. :\n",
      "516\n",
      "516 is multiple of 6\n"
     ]
    }
   ],
   "source": [
    "print(\"Enter any No. :\")\n",
    "a = int(input())\n",
    "if (a%2==0 and a%3==0):\n",
    "    print (a,\"is multiple of 6\")\n",
    "else :\n",
    "    print (a,\"is not multiple of 6\")"
   ]
  },
  {
   "cell_type": "markdown",
   "metadata": {
    "id": "ih7KTp-1HD9F"
   },
   "source": [
    "6.Write av program to check enter number is prime or not"
   ]
  },
  {
   "cell_type": "code",
   "execution_count": 22,
   "metadata": {
    "id": "XCZTMjr0HDg-"
   },
   "outputs": [
    {
     "name": "stdout",
     "output_type": "stream",
     "text": [
      "Enter any No. :\n",
      "127\n",
      "127 is a prime number\n"
     ]
    }
   ],
   "source": [
    "print(\"Enter any No. :\")\n",
    "num = int(input())\n",
    "if num > 1:\n",
    "    for i in range(2, int(num/2)+1):\n",
    "        if (num % i) == 0:\n",
    "            print(num, \"is not a prime number\")\n",
    "            break\n",
    "    else:\n",
    "        print(num, \"is a prime number\")\n",
    "else:\n",
    "    print(num, \"is not a prime number\")\n"
   ]
  },
  {
   "cell_type": "code",
   "execution_count": null,
   "metadata": {
    "id": "AzGl-zkySUA1"
   },
   "outputs": [],
   "source": []
  },
  {
   "cell_type": "code",
   "execution_count": null,
   "metadata": {
    "id": "SPjxvgXkdPPl"
   },
   "outputs": [],
   "source": []
  }
 ],
 "metadata": {
  "colab": {
   "collapsed_sections": [],
   "name": "if_else Conditions.ipynb",
   "provenance": []
  },
  "kernelspec": {
   "display_name": "Python 3",
   "language": "python",
   "name": "python3"
  }
 },
 "nbformat": 4,
 "nbformat_minor": 1
}
