{
 "cells": [
  {
   "cell_type": "markdown",
   "metadata": {
    "id": "VtM_1fUHQZjs"
   },
   "source": [
    "**[Slide No.69]**\n",
    "\n",
    "1. Write a function to print Hello world! ."
   ]
  },
  {
   "cell_type": "code",
   "execution_count": 10,
   "metadata": {
    "id": "8hArxLQ3eI30"
   },
   "outputs": [
    {
     "name": "stdout",
     "output_type": "stream",
     "text": [
      "Hello world!\n"
     ]
    }
   ],
   "source": [
    "def HW():\n",
    "    print('Hello world!')\n",
    "HW()"
   ]
  },
  {
   "cell_type": "markdown",
   "metadata": {
    "id": "AEytpP9-QZnm"
   },
   "source": [
    "**[Slide No. 69]**\n",
    "\n",
    "2. Write a function to print  Hello four times ."
   ]
  },
  {
   "cell_type": "code",
   "execution_count": 7,
   "metadata": {
    "id": "PZWc8iKUeI32"
   },
   "outputs": [
    {
     "name": "stdout",
     "output_type": "stream",
     "text": [
      "Hello\n",
      "Hello\n",
      "Hello\n",
      "Hello\n"
     ]
    }
   ],
   "source": [
    "def Hello():\n",
    "    i=1\n",
    "    while i<=4:\n",
    "        print(\"Hello\")\n",
    "        i = i+1\n",
    "        \n",
    "Hello()"
   ]
  },
  {
   "cell_type": "markdown",
   "metadata": {
    "id": "Muh15NjoQZqU"
   },
   "source": [
    "**[Slide No. 69]**\n",
    "\n",
    "3. Write a function to find the diff, add , mul of two numbers."
   ]
  },
  {
   "cell_type": "code",
   "execution_count": 46,
   "metadata": {
    "id": "EB_uPH4_eI33"
   },
   "outputs": [
    {
     "name": "stdout",
     "output_type": "stream",
     "text": [
      "8\n",
      "4\n",
      "(12, 4, 32)\n"
     ]
    }
   ],
   "source": [
    "def operations(a,b):\n",
    "    Sumi = a+b\n",
    "    Diff = a-b\n",
    "    mul = a*b\n",
    "    return(Sumi,Diff,mul)\n",
    "    \n",
    "n1 = int(input())\n",
    "n2 = int(input())\n",
    "result = operations(n1,n2)\n",
    "print(result)"
   ]
  },
  {
   "cell_type": "markdown",
   "metadata": {
    "id": "YxdYhJt_QZso"
   },
   "source": [
    "**[Slide No. 69]**\n",
    "\n",
    " 4. Write the function to find the factorial of a number ."
   ]
  },
  {
   "cell_type": "code",
   "execution_count": 33,
   "metadata": {
    "id": "WKZ7rpbXeI34"
   },
   "outputs": [
    {
     "name": "stdout",
     "output_type": "stream",
     "text": [
      "4\n",
      "24\n"
     ]
    }
   ],
   "source": [
    "def facto(num):\n",
    "    fact = 1\n",
    "    for i in range(1,num+1):\n",
    "        fact = fact * i\n",
    "    return(fact)\n",
    "    \n",
    "n1 = int(input())\n",
    "result = facto(n1)\n",
    "print(result)"
   ]
  },
  {
   "cell_type": "markdown",
   "metadata": {
    "id": "DSKYQlqEQZwq"
   },
   "source": [
    "**[Slide No. 69]**\n",
    "\n",
    "5. Write a function to find the square of a number "
   ]
  },
  {
   "cell_type": "code",
   "execution_count": 27,
   "metadata": {
    "id": "2tRoMbJneI35"
   },
   "outputs": [
    {
     "name": "stdout",
     "output_type": "stream",
     "text": [
      "11\n",
      "121\n"
     ]
    }
   ],
   "source": [
    "def square_n(num):\n",
    "    sqr = num*num\n",
    "    return(sqr)\n",
    "\n",
    "n1 = int(input())\n",
    "result = square_n(n1)\n",
    "print(result)"
   ]
  },
  {
   "cell_type": "markdown",
   "metadata": {
    "id": "jUYHpxnoT9Ef"
   },
   "source": [
    "**[Slide No. 69]**\n",
    "\n",
    "6. Write the output of the program \n",
    "\n"
   ]
  },
  {
   "cell_type": "markdown",
   "metadata": {
    "id": "yVUoKQsoV8d_"
   },
   "source": [
    "**[Slide No. 73]**\n",
    "\n",
    "7. Check the output of the program:\n",
    "\n",
    "myAdd = lambda x, y,z: x + y+z\n",
    "\n",
    "print (myAdd(6, 10,15))\n",
    "\n",
    "print (myAdd(7, 20,4))\n",
    "\n",
    "print (type(myAdd))"
   ]
  },
  {
   "cell_type": "code",
   "execution_count": 34,
   "metadata": {
    "id": "N_Sqbm2beI36"
   },
   "outputs": [
    {
     "name": "stdout",
     "output_type": "stream",
     "text": [
      "31\n",
      "31\n",
      "<class 'function'>\n"
     ]
    }
   ],
   "source": [
    "myAdd = lambda x, y,z: x + y+z\n",
    "\n",
    "print (myAdd(6, 10,15))\n",
    "\n",
    "print (myAdd(7, 20,4))\n",
    "\n",
    "print (type(myAdd))"
   ]
  },
  {
   "cell_type": "markdown",
   "metadata": {
    "id": "LRC5kSgo2uqt"
   },
   "source": [
    "**[Slide No. 73]**\n",
    "\n",
    "8. Write a Python program to create a lambda function that adds 15 to a given number passed in as an argument."
   ]
  },
  {
   "cell_type": "code",
   "execution_count": 44,
   "metadata": {
    "id": "_RIobTypeI37"
   },
   "outputs": [
    {
     "name": "stdout",
     "output_type": "stream",
     "text": [
      "10\n",
      "25\n"
     ]
    }
   ],
   "source": [
    "Add = lambda x : x+15\n",
    "a = int(input())\n",
    "print(Add(a))"
   ]
  },
  {
   "cell_type": "markdown",
   "metadata": {
    "id": "KaRTkOYQ3PYc"
   },
   "source": [
    "**[Slide No. 73]**\n",
    "\n",
    "9. create a lambda function that multiplies argument x with argument y and print the result."
   ]
  },
  {
   "cell_type": "code",
   "execution_count": 45,
   "metadata": {
    "id": "AI4cpLZPd-pH"
   },
   "outputs": [
    {
     "name": "stdout",
     "output_type": "stream",
     "text": [
      "5\n",
      "2\n",
      "10\n"
     ]
    }
   ],
   "source": [
    "Multiply = lambda x, y: x*y\n",
    "a = int(input())\n",
    "b = int(input())\n",
    "print (Multiply(a,b))"
   ]
  },
  {
   "cell_type": "code",
   "execution_count": null,
   "metadata": {},
   "outputs": [],
   "source": []
  }
 ],
 "metadata": {
  "colab": {
   "collapsed_sections": [],
   "name": "Function-Questions.ipynb",
   "provenance": []
  },
  "kernelspec": {
   "display_name": "Python 3",
   "language": "python",
   "name": "python3"
  },
  "language_info": {
   "codemirror_mode": {
    "name": "ipython",
    "version": 3
   },
   "file_extension": ".py",
   "mimetype": "text/x-python",
   "name": "python",
   "nbconvert_exporter": "python",
   "pygments_lexer": "ipython3",
   "version": "3.8.8"
  }
 },
 "nbformat": 4,
 "nbformat_minor": 1
}
