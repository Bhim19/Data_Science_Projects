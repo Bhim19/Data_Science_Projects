{
 "cells": [
  {
   "cell_type": "markdown",
   "metadata": {
    "id": "007obovHk3EF"
   },
   "source": [
    "# 1. Write a program to Iterating string \"Python\" using for loop "
   ]
  },
  {
   "cell_type": "code",
   "execution_count": 38,
   "metadata": {
    "id": "4P0AYpHSk3EJ"
   },
   "outputs": [
    {
     "name": "stdout",
     "output_type": "stream",
     "text": [
      "P y t h o n\n"
     ]
    }
   ],
   "source": [
    "a = \"Python\"\n",
    "for i in a:\n",
    "    print(\" \".join(a))\n",
    "    break"
   ]
  },
  {
   "cell_type": "markdown",
   "metadata": {
    "id": "g_VT_jeuk3EL"
   },
   "source": [
    "# 2. Write a program to print Table of a given number"
   ]
  },
  {
   "cell_type": "code",
   "execution_count": 33,
   "metadata": {
    "id": "kUPE6EgVk3EO"
   },
   "outputs": [
    {
     "name": "stdout",
     "output_type": "stream",
     "text": [
      "7\n",
      "Table for a given number is:\n",
      "7 * 1 7\n",
      "7 * 2 14\n",
      "7 * 3 21\n",
      "7 * 4 28\n",
      "7 * 5 35\n",
      "7 * 6 42\n",
      "7 * 7 49\n",
      "7 * 8 56\n",
      "7 * 9 63\n",
      "7 * 10 70\n"
     ]
    }
   ],
   "source": [
    "a=int(input())\n",
    "print(\"Table for a given number is:\")\n",
    "for i in range(1,11):\n",
    "    print(a,\"*\",i,+a*i)"
   ]
  },
  {
   "cell_type": "markdown",
   "metadata": {
    "id": "SIRdjSy1k3EO"
   },
   "source": [
    "# 3. Program to print the sum of the given list."
   ]
  },
  {
   "cell_type": "code",
   "execution_count": 37,
   "metadata": {
    "id": "9YRzFr7Xk3EP"
   },
   "outputs": [
    {
     "name": "stdout",
     "output_type": "stream",
     "text": [
      "55\n"
     ]
    }
   ],
   "source": [
    "list1 = [1,2,3,4,5,6,7,8,9,10]\n",
    "a = 0\n",
    "for i in list1:\n",
    "    a = a+i\n",
    "print(a)"
   ]
  },
  {
   "cell_type": "markdown",
   "metadata": {
    "id": "5MtpuRpBk3EP"
   },
   "source": [
    "# 4. Program to print the difference of given list"
   ]
  },
  {
   "cell_type": "code",
   "execution_count": 36,
   "metadata": {
    "id": "E3F3rZYNk3EQ"
   },
   "outputs": [],
   "source": [
    "#It's complicated one(difference of adjacent element or difference of whole list, that is confusing)\n",
    "#If difference of whole list, Cases will be varry, according to that results will varry."
   ]
  },
  {
   "cell_type": "markdown",
   "metadata": {
    "id": "KERqYpJ4k3EQ"
   },
   "source": [
    "# 5. Program to print even number using in range().   Eg (2,4,6,8 )"
   ]
  },
  {
   "cell_type": "code",
   "execution_count": 10,
   "metadata": {
    "id": "pr_wtem-k3ER"
   },
   "outputs": [
    {
     "name": "stdout",
     "output_type": "stream",
     "text": [
      "2 is even No.\n",
      "8 is even No.\n",
      "6 is even No.\n"
     ]
    }
   ],
   "source": [
    "a=[87,95,2,5,8,3,6]\n",
    "for i in a :\n",
    "    if(i%2==0):\n",
    "        print(i,\"is even No.\")"
   ]
  },
  {
   "cell_type": "markdown",
   "metadata": {
    "id": "vr3h_5yyk3ER"
   },
   "source": [
    "# 6. Write a Program to print 1 to 10 using while loop"
   ]
  },
  {
   "cell_type": "code",
   "execution_count": 35,
   "metadata": {
    "id": "en-8QbXzk3ER"
   },
   "outputs": [
    {
     "name": "stdout",
     "output_type": "stream",
     "text": [
      "1\n",
      "2\n",
      "3\n",
      "4\n",
      "5\n",
      "6\n",
      "7\n",
      "8\n",
      "9\n",
      "10\n"
     ]
    }
   ],
   "source": [
    "#using for loop here as of now\n",
    "for i in range(1,11):\n",
    "    print(i)"
   ]
  },
  {
   "cell_type": "markdown",
   "metadata": {
    "id": "JqCj9v2Kk3ES"
   },
   "source": [
    "# 7. Write the program to iterate every element with Hello ! ? list = ['Peter','Joseph','Ricky','Devansh']"
   ]
  },
  {
   "cell_type": "code",
   "execution_count": 18,
   "metadata": {
    "id": "Lphc37rjk3ES"
   },
   "outputs": [
    {
     "name": "stdout",
     "output_type": "stream",
     "text": [
      "Hello! Peter\n",
      "Hello! Joseph\n",
      "Hello! Ricky\n",
      "Hello! Devansh\n"
     ]
    }
   ],
   "source": [
    "list1 = ['Peter','Joseph','Ricky','Devansh']\n",
    "for i in list1:\n",
    "    print(\"Hello!\",i)"
   ]
  },
  {
   "cell_type": "code",
   "execution_count": null,
   "metadata": {},
   "outputs": [],
   "source": []
  }
 ],
 "metadata": {
  "colab": {
   "name": "For_Loop.ipynb",
   "provenance": []
  },
  "kernelspec": {
   "display_name": "Python 3",
   "language": "python",
   "name": "python3"
  },
  "language_info": {
   "codemirror_mode": {
    "name": "ipython",
    "version": 3
   },
   "file_extension": ".py",
   "mimetype": "text/x-python",
   "name": "python",
   "nbconvert_exporter": "python",
   "pygments_lexer": "ipython3",
   "version": "3.8.8"
  }
 },
 "nbformat": 4,
 "nbformat_minor": 1
}
